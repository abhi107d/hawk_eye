{
 "cells": [
  {
   "cell_type": "code",
   "execution_count": 85,
   "metadata": {},
   "outputs": [],
   "source": [
    "import torch\n",
    "import os\n",
    "from sklearn.model_selection import train_test_split\n",
    "import numpy as np\n",
    "import torch.nn.functional as F\n",
    "from torch.utils.data import TensorDataset"
   ]
  },
  {
   "cell_type": "code",
   "execution_count": null,
   "metadata": {},
   "outputs": [],
   "source": [
    "torch.cuda.get_device_name(0)"
   ]
  },
  {
   "cell_type": "code",
   "execution_count": 87,
   "metadata": {},
   "outputs": [],
   "source": [
    "path_=os.path.join(\"../Data\")\n",
    "no_frames=20\n",
    "no_video=30"
   ]
  },
  {
   "cell_type": "code",
   "execution_count": null,
   "metadata": {},
   "outputs": [],
   "source": [
    "label_map=[name for name in os.listdir(path_) if name != \"info.txt\" and name != 'data.pth'] #getting label names\n",
    "print(label_map)"
   ]
  },
  {
   "cell_type": "code",
   "execution_count": null,
   "metadata": {},
   "outputs": [],
   "source": [
    "data=[]\n",
    "labels=[]\n",
    "for i,label in enumerate(label_map):\n",
    "    for personid in os.listdir(os.path.join(path_,label)):\n",
    "        for video in os.listdir(os.path.join(path_,label,personid)):\n",
    "            vid=[]\n",
    "            for frame_no in range(1,no_frames+1):\n",
    "                res=np.load(os.path.join(path_,label,personid,video,str(frame_no)+\"_person.png.npy\"))\n",
    "                vid.append(res)\n",
    "            data.append(vid)\n",
    "            labels.append(i)"
   ]
  },
  {
   "cell_type": "code",
   "execution_count": 44,
   "metadata": {},
   "outputs": [],
   "source": [
    "data=np.array(data)\n",
    "labels=np.array(labels)"
   ]
  },
  {
   "cell_type": "code",
   "execution_count": null,
   "metadata": {},
   "outputs": [],
   "source": [
    "print(data.shape)\n",
    "print(len(labels))"
   ]
  },
  {
   "cell_type": "code",
   "execution_count": 46,
   "metadata": {},
   "outputs": [],
   "source": [
    "labels = F.one_hot(torch.tensor(labels, dtype=torch.int64), num_classes=2)"
   ]
  },
  {
   "cell_type": "code",
   "execution_count": null,
   "metadata": {},
   "outputs": [],
   "source": [
    "print(\"x shape \",data.shape,\" y shape\",labels.shape)"
   ]
  },
  {
   "cell_type": "code",
   "execution_count": null,
   "metadata": {},
   "outputs": [],
   "source": [
    "\n",
    "x = torch.tensor(data, dtype=torch.float32)  # Convert x to a PyTorch tensor\n",
    "y = torch.tensor(labels, dtype=torch.float32)  # Ensure y is a PyTorch tensor\n",
    "\n",
    "\n",
    "dataset = TensorDataset(x, y)\n",
    "\n",
    "\n",
    "torch.save(dataset, os.path.join(path_,\"data.pth\"))\n",
    "\n",
    "print(\"Dataset saved successfully!\")\n"
   ]
  },
  {
   "cell_type": "markdown",
   "metadata": {},
   "source": [
    "<h3>Load Data</h3>"
   ]
  },
  {
   "cell_type": "code",
   "execution_count": 151,
   "metadata": {},
   "outputs": [
    {
     "name": "stdout",
     "output_type": "stream",
     "text": [
      "x shape: torch.Size([894, 20, 132])\n",
      "y shape: torch.Size([894, 2])\n"
     ]
    },
    {
     "name": "stderr",
     "output_type": "stream",
     "text": [
      "C:\\Users\\abhis\\AppData\\Local\\Temp\\ipykernel_17700\\3664914814.py:1: FutureWarning: You are using `torch.load` with `weights_only=False` (the current default value), which uses the default pickle module implicitly. It is possible to construct malicious pickle data which will execute arbitrary code during unpickling (See https://github.com/pytorch/pytorch/blob/main/SECURITY.md#untrusted-models for more details). In a future release, the default value for `weights_only` will be flipped to `True`. This limits the functions that could be executed during unpickling. Arbitrary objects will no longer be allowed to be loaded via this mode unless they are explicitly allowlisted by the user via `torch.serialization.add_safe_globals`. We recommend you start setting `weights_only=True` for any use case where you don't have full control of the loaded file. Please open an issue on GitHub for any issues related to this experimental feature.\n",
      "  loaded_dataset = torch.load(os.path.join(path_,\"data.pth\"))\n"
     ]
    }
   ],
   "source": [
    "loaded_dataset = torch.load(os.path.join(path_,\"data.pth\"))\n",
    "\n",
    "data, labels = loaded_dataset[:]\n",
    "print(\"x shape:\", data.shape)\n",
    "print(\"y shape:\", labels.shape)\n"
   ]
  },
  {
   "cell_type": "code",
   "execution_count": 152,
   "metadata": {},
   "outputs": [
    {
     "name": "stdout",
     "output_type": "stream",
     "text": [
      "torch.Size([894, 2]) torch.Size([894, 20, 132])\n"
     ]
    }
   ],
   "source": [
    "print(labels.shape,data.shape)\n"
   ]
  },
  {
   "cell_type": "code",
   "execution_count": null,
   "metadata": {},
   "outputs": [],
   "source": []
  },
  {
   "cell_type": "markdown",
   "metadata": {},
   "source": [
    "<h3>Model Architecture</h3>"
   ]
  },
  {
   "cell_type": "code",
   "execution_count": 153,
   "metadata": {},
   "outputs": [],
   "source": [
    "import torch\n",
    "import torch.nn as nn\n",
    "import torch.optim as optim"
   ]
  },
  {
   "cell_type": "code",
   "execution_count": 154,
   "metadata": {},
   "outputs": [],
   "source": [
    "# Define the model architecture\n",
    "class LSTMModel(nn.Module):\n",
    "    def __init__(self, input_size, num_classes):\n",
    "        super(LSTMModel, self).__init__()\n",
    "        self.lstm1 = nn.LSTM(input_size, 64, batch_first=True)\n",
    "        self.lstm2 = nn.LSTM(64, 128, batch_first=True)\n",
    "        self.lstm3 = nn.LSTM(128, 64, batch_first=True)\n",
    "        self.fc1 = nn.Linear(64, 64)\n",
    "        self.fc2 = nn.Linear(64, 32)\n",
    "        self.fc3 = nn.Linear(32, num_classes)\n",
    "        self.relu = nn.ReLU()\n",
    "        self.softmax = nn.Softmax(dim=1)\n",
    "\n",
    "    def forward(self, x):\n",
    "        x, _ = self.lstm1(x)\n",
    "        x, _ = self.lstm2(x)\n",
    "        x, _ = self.lstm3(x)\n",
    "        x = self.relu(self.fc1(x[:, -1, :]))  # Use the last time step's output\n",
    "        x = self.relu(self.fc2(x))\n",
    "        #x = self.softmax(self.fc3(x))\n",
    "        x = self.fc3(x)\n",
    "        return x"
   ]
  },
  {
   "cell_type": "code",
   "execution_count": 155,
   "metadata": {},
   "outputs": [],
   "source": [
    "from torch.utils.data import DataLoader, TensorDataset\n",
    "dataset = TensorDataset(data, labels)\n",
    "dataloader = DataLoader(dataset, batch_size=32, shuffle=True)\n"
   ]
  },
  {
   "cell_type": "code",
   "execution_count": 156,
   "metadata": {},
   "outputs": [],
   "source": [
    "device = torch.device(\"cuda\" if torch.cuda.is_available() else \"cpu\")"
   ]
  },
  {
   "cell_type": "code",
   "execution_count": 157,
   "metadata": {},
   "outputs": [
    {
     "data": {
      "text/plain": [
       "LSTMModel(\n",
       "  (lstm1): LSTM(132, 64, batch_first=True)\n",
       "  (lstm2): LSTM(64, 128, batch_first=True)\n",
       "  (lstm3): LSTM(128, 64, batch_first=True)\n",
       "  (fc1): Linear(in_features=64, out_features=64, bias=True)\n",
       "  (fc2): Linear(in_features=64, out_features=32, bias=True)\n",
       "  (fc3): Linear(in_features=32, out_features=2, bias=True)\n",
       "  (relu): ReLU()\n",
       "  (softmax): Softmax(dim=1)\n",
       ")"
      ]
     },
     "execution_count": 157,
     "metadata": {},
     "output_type": "execute_result"
    }
   ],
   "source": [
    "input_size = data.shape[2]  # 132\n",
    "num_classes = labels.shape[1]  # 2\n",
    "model = LSTMModel(input_size, num_classes).to(device)\n",
    "model.to(device)"
   ]
  },
  {
   "cell_type": "code",
   "execution_count": 158,
   "metadata": {},
   "outputs": [
    {
     "name": "stdout",
     "output_type": "stream",
     "text": [
      "Model initialized and moved to device: cuda\n"
     ]
    }
   ],
   "source": [
    "criterion = nn.CrossEntropyLoss()\n",
    "optimizer = optim.Adam(model.parameters(), lr=0.001)\n",
    "print(\"Model initialized and moved to device:\", device)"
   ]
  },
  {
   "cell_type": "code",
   "execution_count": 159,
   "metadata": {},
   "outputs": [
    {
     "name": "stdout",
     "output_type": "stream",
     "text": [
      "Epoch 1/30, Loss: 0.5906\n",
      "Epoch 2/30, Loss: 0.4601\n",
      "Epoch 3/30, Loss: 0.3543\n",
      "Epoch 4/30, Loss: 0.3205\n",
      "Epoch 5/30, Loss: 0.3668\n",
      "Epoch 6/30, Loss: 0.2373\n",
      "Epoch 7/30, Loss: 0.1836\n",
      "Epoch 8/30, Loss: 0.1574\n",
      "Epoch 9/30, Loss: 0.1522\n",
      "Epoch 10/30, Loss: 0.1521\n",
      "Epoch 11/30, Loss: 0.1564\n",
      "Epoch 12/30, Loss: 0.1619\n",
      "Epoch 13/30, Loss: 0.1476\n",
      "Epoch 14/30, Loss: 0.1176\n",
      "Epoch 15/30, Loss: 0.1206\n",
      "Epoch 16/30, Loss: 0.1280\n",
      "Epoch 17/30, Loss: 0.1365\n",
      "Epoch 18/30, Loss: 0.1275\n",
      "Epoch 19/30, Loss: 0.0881\n",
      "Epoch 20/30, Loss: 0.1082\n",
      "Epoch 21/30, Loss: 0.1572\n",
      "Epoch 22/30, Loss: 0.1177\n",
      "Epoch 23/30, Loss: 0.0951\n",
      "Epoch 24/30, Loss: 0.0855\n",
      "Epoch 25/30, Loss: 0.1100\n",
      "Epoch 26/30, Loss: 0.0862\n",
      "Epoch 27/30, Loss: 0.0915\n",
      "Epoch 28/30, Loss: 0.0815\n",
      "Epoch 29/30, Loss: 0.0650\n",
      "Epoch 30/30, Loss: 0.0727\n"
     ]
    }
   ],
   "source": [
    "num_epochs = 30 \n",
    "\n",
    "for epoch in range(num_epochs):\n",
    "    model.train()  \n",
    "    epoch_loss = 0.0\n",
    "\n",
    "    for batch_x, batch_y in dataloader:\n",
    "        batch_x, batch_y = batch_x.to(device), batch_y.to(device)\n",
    "\n",
    "      \n",
    "        outputs = model(batch_x)\n",
    "        loss = criterion(outputs, torch.argmax(batch_y, dim=1))  \n",
    "        \n",
    "        optimizer.zero_grad()\n",
    "        loss.backward()\n",
    "        optimizer.step()\n",
    "\n",
    "        epoch_loss += loss.item()\n",
    "\n",
    "    print(f\"Epoch {epoch+1}/{num_epochs}, Loss: {epoch_loss/len(dataloader):.4f}\")\n"
   ]
  },
  {
   "cell_type": "code",
   "execution_count": 166,
   "metadata": {},
   "outputs": [
    {
     "name": "stdout",
     "output_type": "stream",
     "text": [
      "Accuracy: 0.9553\n"
     ]
    }
   ],
   "source": [
    "model.eval()  # Set model to evaluation mode\n",
    "with torch.no_grad():\n",
    "    total_correct = 0\n",
    "    total_samples = 0\n",
    "\n",
    "    for batch_x, batch_y in dataloader:\n",
    "        batch_x, batch_y = batch_x.to(device), batch_y.to(device)\n",
    "\n",
    "        outputs = model(batch_x)\n",
    "        predictions = torch.argmax(outputs, dim=1)\n",
    "        label = torch.argmax(batch_y, dim=1)\n",
    "        total_correct += (predictions == label).sum().item()\n",
    "        total_samples += label.size(0)\n",
    "\n",
    "    print(f\"Accuracy: {total_correct / total_samples:.4f}\")\n"
   ]
  },
  {
   "cell_type": "code",
   "execution_count": 127,
   "metadata": {},
   "outputs": [],
   "source": [
    "torch.save(model, \"../models/lstm_model_full.pth\")"
   ]
  },
  {
   "cell_type": "code",
   "execution_count": 167,
   "metadata": {},
   "outputs": [
    {
     "name": "stderr",
     "output_type": "stream",
     "text": [
      "C:\\Users\\abhis\\AppData\\Local\\Temp\\ipykernel_17700\\6289017.py:1: FutureWarning: You are using `torch.load` with `weights_only=False` (the current default value), which uses the default pickle module implicitly. It is possible to construct malicious pickle data which will execute arbitrary code during unpickling (See https://github.com/pytorch/pytorch/blob/main/SECURITY.md#untrusted-models for more details). In a future release, the default value for `weights_only` will be flipped to `True`. This limits the functions that could be executed during unpickling. Arbitrary objects will no longer be allowed to be loaded via this mode unless they are explicitly allowlisted by the user via `torch.serialization.add_safe_globals`. We recommend you start setting `weights_only=True` for any use case where you don't have full control of the loaded file. Please open an issue on GitHub for any issues related to this experimental feature.\n",
      "  loaded_model = torch.load(\"../models/lstm_model_full.pth\")\n"
     ]
    },
    {
     "data": {
      "text/plain": [
       "LSTMModel(\n",
       "  (lstm1): LSTM(132, 64, batch_first=True)\n",
       "  (lstm2): LSTM(64, 128, batch_first=True)\n",
       "  (lstm3): LSTM(128, 64, batch_first=True)\n",
       "  (fc1): Linear(in_features=64, out_features=64, bias=True)\n",
       "  (fc2): Linear(in_features=64, out_features=32, bias=True)\n",
       "  (fc3): Linear(in_features=32, out_features=2, bias=True)\n",
       "  (relu): ReLU()\n",
       "  (softmax): Softmax(dim=1)\n",
       ")"
      ]
     },
     "execution_count": 167,
     "metadata": {},
     "output_type": "execute_result"
    }
   ],
   "source": [
    "loaded_model = torch.load(\"../models/lstm_model_full.pth\")\n",
    "loaded_model.to(device)  # Move to the appropriate device if needed\n",
    "loaded_model.eval()  # Set the model to evaluation mode\n"
   ]
  },
  {
   "cell_type": "code",
   "execution_count": 168,
   "metadata": {},
   "outputs": [
    {
     "name": "stdout",
     "output_type": "stream",
     "text": [
      "Accuracy: 0.9877\n"
     ]
    }
   ],
   "source": [
    "with torch.no_grad():\n",
    "    total_correct = 0\n",
    "    total_samples = 0\n",
    "\n",
    "    for batch_x, batch_y in dataloader:\n",
    "        batch_x, batch_y = batch_x.to(device), batch_y.to(device)\n",
    "        outputs = loaded_model(batch_x)\n",
    "        predictions = torch.argmax(outputs, dim=1)\n",
    "        label = torch.argmax(batch_y, dim=1)\n",
    "        total_correct += (predictions == label).sum().item()\n",
    "        total_samples += label.size(0)\n",
    "\n",
    "    print(f\"Accuracy: {total_correct / total_samples:.4f}\")"
   ]
  },
  {
   "cell_type": "code",
   "execution_count": 169,
   "metadata": {},
   "outputs": [],
   "source": [
    "outputs = loaded_model(batch_x)\n",
    "predictions = torch.argmax(outputs, dim=1)"
   ]
  },
  {
   "cell_type": "code",
   "execution_count": 176,
   "metadata": {},
   "outputs": [
    {
     "name": "stdout",
     "output_type": "stream",
     "text": [
      "Predicted class: 0\n"
     ]
    },
    {
     "name": "stderr",
     "output_type": "stream",
     "text": [
      "C:\\Users\\abhis\\AppData\\Local\\Temp\\ipykernel_17700\\725162143.py:4: UserWarning: To copy construct from a tensor, it is recommended to use sourceTensor.clone().detach() or sourceTensor.clone().detach().requires_grad_(True), rather than torch.tensor(sourceTensor).\n",
      "  input_tensor = torch.tensor(input_sequence, dtype=torch.float32)\n"
     ]
    }
   ],
   "source": [
    "input_sequence = data[400]  \n",
    "\n",
    "# Convert NumPy array to PyTorch tensor\n",
    "input_tensor = torch.tensor(input_sequence, dtype=torch.float32)\n",
    "input_tensor = input_tensor.unsqueeze(0)  # Add batch dimension: shape becomes (1, 20, 132)\n",
    "\n",
    "# Move to the appropriate device \n",
    "device = torch.device(\"cuda\" if torch.cuda.is_available() else \"cpu\")\n",
    "input_tensor = input_tensor.to(device)\n",
    "model.to(device)\n",
    "\n",
    "# Perform prediction\n",
    "with torch.no_grad():\n",
    "    output = model(input_tensor)  # Output shape: (1, num_classes)\n",
    "    prediction = torch.argmax(output, dim=1)  # Get the predicted class index\n",
    "\n",
    "# Print the prediction\n",
    "print(f\"Predicted class: {prediction.item()}\")"
   ]
  },
  {
   "cell_type": "code",
   "execution_count": null,
   "metadata": {},
   "outputs": [],
   "source": []
  },
  {
   "cell_type": "code",
   "execution_count": null,
   "metadata": {},
   "outputs": [],
   "source": []
  }
 ],
 "metadata": {
  "kernelspec": {
   "display_name": "Python 3",
   "language": "python",
   "name": "python3"
  },
  "language_info": {
   "codemirror_mode": {
    "name": "ipython",
    "version": 3
   },
   "file_extension": ".py",
   "mimetype": "text/x-python",
   "name": "python",
   "nbconvert_exporter": "python",
   "pygments_lexer": "ipython3",
   "version": "3.11.11"
  }
 },
 "nbformat": 4,
 "nbformat_minor": 2
}
