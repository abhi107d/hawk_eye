{
 "cells": [
  {
   "cell_type": "code",
   "execution_count": 1,
   "metadata": {},
   "outputs": [],
   "source": [
    "import torch\n",
    "import os\n",
    "from sklearn.model_selection import train_test_split\n",
    "import numpy as np\n",
    "import torch.nn.functional as F\n",
    "from torch.utils.data import TensorDataset"
   ]
  },
  {
   "cell_type": "code",
   "execution_count": 2,
   "metadata": {},
   "outputs": [
    {
     "data": {
      "text/plain": [
       "'NVIDIA GeForce RTX 3050 Laptop GPU'"
      ]
     },
     "execution_count": 2,
     "metadata": {},
     "output_type": "execute_result"
    }
   ],
   "source": [
    "torch.cuda.get_device_name(0)"
   ]
  },
  {
   "cell_type": "code",
   "execution_count": 3,
   "metadata": {},
   "outputs": [
    {
     "name": "stderr",
     "output_type": "stream",
     "text": [
      "C:\\Users\\abhis\\AppData\\Local\\Temp\\ipykernel_12800\\1018567209.py:1: FutureWarning: You are using `torch.load` with `weights_only=False` (the current default value), which uses the default pickle module implicitly. It is possible to construct malicious pickle data which will execute arbitrary code during unpickling (See https://github.com/pytorch/pytorch/blob/main/SECURITY.md#untrusted-models for more details). In a future release, the default value for `weights_only` will be flipped to `True`. This limits the functions that could be executed during unpickling. Arbitrary objects will no longer be allowed to be loaded via this mode unless they are explicitly allowlisted by the user via `torch.serialization.add_safe_globals`. We recommend you start setting `weights_only=True` for any use case where you don't have full control of the loaded file. Please open an issue on GitHub for any issues related to this experimental feature.\n",
      "  data1=torch.load(\"../Data/cheating_Dataset.pth\")\n",
      "C:\\Users\\abhis\\AppData\\Local\\Temp\\ipykernel_12800\\1018567209.py:2: FutureWarning: You are using `torch.load` with `weights_only=False` (the current default value), which uses the default pickle module implicitly. It is possible to construct malicious pickle data which will execute arbitrary code during unpickling (See https://github.com/pytorch/pytorch/blob/main/SECURITY.md#untrusted-models for more details). In a future release, the default value for `weights_only` will be flipped to `True`. This limits the functions that could be executed during unpickling. Arbitrary objects will no longer be allowed to be loaded via this mode unless they are explicitly allowlisted by the user via `torch.serialization.add_safe_globals`. We recommend you start setting `weights_only=True` for any use case where you don't have full control of the loaded file. Please open an issue on GitHub for any issues related to this experimental feature.\n",
      "  data2=torch.load(\"../Data/non_cheating_Dataset.pth\")\n"
     ]
    }
   ],
   "source": [
    "data1=torch.load(\"../Data/cheating_Dataset.pth\")\n",
    "data2=torch.load(\"../Data/non_cheating_Dataset.pth\")"
   ]
  },
  {
   "cell_type": "code",
   "execution_count": 4,
   "metadata": {},
   "outputs": [
    {
     "name": "stdout",
     "output_type": "stream",
     "text": [
      "torch.Size([685, 20, 17, 3]) torch.Size([681, 20, 17, 3])\n"
     ]
    }
   ],
   "source": [
    "print(data1.shape,data2.shape)"
   ]
  },
  {
   "cell_type": "code",
   "execution_count": 5,
   "metadata": {},
   "outputs": [
    {
     "name": "stderr",
     "output_type": "stream",
     "text": [
      "C:\\Users\\abhis\\AppData\\Local\\Temp\\ipykernel_12800\\2512688000.py:1: FutureWarning: You are using `torch.load` with `weights_only=False` (the current default value), which uses the default pickle module implicitly. It is possible to construct malicious pickle data which will execute arbitrary code during unpickling (See https://github.com/pytorch/pytorch/blob/main/SECURITY.md#untrusted-models for more details). In a future release, the default value for `weights_only` will be flipped to `True`. This limits the functions that could be executed during unpickling. Arbitrary objects will no longer be allowed to be loaded via this mode unless they are explicitly allowlisted by the user via `torch.serialization.add_safe_globals`. We recommend you start setting `weights_only=True` for any use case where you don't have full control of the loaded file. Please open an issue on GitHub for any issues related to this experimental feature.\n",
      "  y1=torch.load(\"../Data/cheating_ylabel.pth\")\n",
      "C:\\Users\\abhis\\AppData\\Local\\Temp\\ipykernel_12800\\2512688000.py:2: FutureWarning: You are using `torch.load` with `weights_only=False` (the current default value), which uses the default pickle module implicitly. It is possible to construct malicious pickle data which will execute arbitrary code during unpickling (See https://github.com/pytorch/pytorch/blob/main/SECURITY.md#untrusted-models for more details). In a future release, the default value for `weights_only` will be flipped to `True`. This limits the functions that could be executed during unpickling. Arbitrary objects will no longer be allowed to be loaded via this mode unless they are explicitly allowlisted by the user via `torch.serialization.add_safe_globals`. We recommend you start setting `weights_only=True` for any use case where you don't have full control of the loaded file. Please open an issue on GitHub for any issues related to this experimental feature.\n",
      "  y2=torch.load(\"../Data/non_cheating_ylabel.pth\")\n"
     ]
    }
   ],
   "source": [
    "y1=torch.load(\"../Data/cheating_ylabel.pth\")\n",
    "y2=torch.load(\"../Data/non_cheating_ylabel.pth\")"
   ]
  },
  {
   "cell_type": "code",
   "execution_count": 6,
   "metadata": {},
   "outputs": [
    {
     "name": "stdout",
     "output_type": "stream",
     "text": [
      "torch.Size([685]) torch.Size([681])\n"
     ]
    }
   ],
   "source": [
    "print(y1.shape,y2.shape)"
   ]
  },
  {
   "cell_type": "code",
   "execution_count": 10,
   "metadata": {},
   "outputs": [
    {
     "data": {
      "text/plain": [
       "torch.Size([1366, 20, 17, 3])"
      ]
     },
     "execution_count": 10,
     "metadata": {},
     "output_type": "execute_result"
    }
   ],
   "source": [
    "data=torch.cat((data1,data2),dim=0)\n",
    "data.shape"
   ]
  },
  {
   "cell_type": "code",
   "execution_count": 12,
   "metadata": {},
   "outputs": [
    {
     "data": {
      "text/plain": [
       "torch.Size([1366])"
      ]
     },
     "execution_count": 12,
     "metadata": {},
     "output_type": "execute_result"
    }
   ],
   "source": [
    "y=torch.cat((y1,y2),dim=0)\n",
    "y.shape"
   ]
  },
  {
   "cell_type": "code",
   "execution_count": 13,
   "metadata": {},
   "outputs": [
    {
     "data": {
      "text/plain": [
       "torch.Size([1366, 20, 51])"
      ]
     },
     "execution_count": 13,
     "metadata": {},
     "output_type": "execute_result"
    }
   ],
   "source": [
    "data=data.reshape(data.shape[0],data.shape[1],-1)\n",
    "data.shape"
   ]
  },
  {
   "cell_type": "markdown",
   "metadata": {},
   "source": [
    "<h3>Load Data</h3>"
   ]
  },
  {
   "cell_type": "markdown",
   "metadata": {},
   "source": [
    "<h3>Model Architecture</h3>"
   ]
  },
  {
   "cell_type": "code",
   "execution_count": 19,
   "metadata": {},
   "outputs": [],
   "source": [
    "import torch\n",
    "import torch.nn as nn\n",
    "import torch.optim as optim"
   ]
  },
  {
   "cell_type": "code",
   "execution_count": 20,
   "metadata": {},
   "outputs": [],
   "source": [
    "# Define the model architecture\n",
    "class LSTMModel(nn.Module):\n",
    "    def __init__(self, input_size, num_classes):\n",
    "        super(LSTMModel, self).__init__()\n",
    "        self.lstm1 = nn.LSTM(input_size, 64, batch_first=True)\n",
    "        self.lstm2 = nn.LSTM(64, 128, batch_first=True)\n",
    "        self.lstm3 = nn.LSTM(128, 64, batch_first=True)\n",
    "        self.fc1 = nn.Linear(64, 64)\n",
    "        self.fc2 = nn.Linear(64, 32)\n",
    "        self.fc3 = nn.Linear(32, num_classes)\n",
    "        self.relu = nn.ReLU()\n",
    "        self.softmax = nn.Softmax(dim=1)\n",
    "\n",
    "    def forward(self, x):\n",
    "        x, _ = self.lstm1(x)\n",
    "        x, _ = self.lstm2(x)\n",
    "        x, _ = self.lstm3(x)\n",
    "        x = self.relu(self.fc1(x[:, -1, :]))  # Use the last time step's output\n",
    "        x = self.relu(self.fc2(x))\n",
    "        #x = self.softmax(self.fc3(x))\n",
    "        x = self.fc3(x)\n",
    "        return x"
   ]
  },
  {
   "cell_type": "code",
   "execution_count": 14,
   "metadata": {},
   "outputs": [],
   "source": [
    "from torch.utils.data import DataLoader, TensorDataset\n",
    "dataset = TensorDataset(data, y)\n",
    "dataloader = DataLoader(dataset, batch_size=60, shuffle=True)\n"
   ]
  },
  {
   "cell_type": "code",
   "execution_count": 15,
   "metadata": {},
   "outputs": [],
   "source": [
    "device = torch.device(\"cuda\" if torch.cuda.is_available() else \"cpu\")\n"
   ]
  },
  {
   "cell_type": "code",
   "execution_count": 21,
   "metadata": {},
   "outputs": [
    {
     "data": {
      "text/plain": [
       "LSTMModel(\n",
       "  (lstm1): LSTM(51, 64, batch_first=True)\n",
       "  (lstm2): LSTM(64, 128, batch_first=True)\n",
       "  (lstm3): LSTM(128, 64, batch_first=True)\n",
       "  (fc1): Linear(in_features=64, out_features=64, bias=True)\n",
       "  (fc2): Linear(in_features=64, out_features=32, bias=True)\n",
       "  (fc3): Linear(in_features=32, out_features=1366, bias=True)\n",
       "  (relu): ReLU()\n",
       "  (softmax): Softmax(dim=1)\n",
       ")"
      ]
     },
     "execution_count": 21,
     "metadata": {},
     "output_type": "execute_result"
    }
   ],
   "source": [
    "input_size = data.shape[2]  # 132\n",
    "num_classes = y.shape[0]  # 2\n",
    "model = LSTMModel(input_size, num_classes).to(device)\n",
    "model.to(device)"
   ]
  },
  {
   "cell_type": "code",
   "execution_count": 30,
   "metadata": {},
   "outputs": [
    {
     "name": "stdout",
     "output_type": "stream",
     "text": [
      "Model initialized and moved to device: cuda\n"
     ]
    }
   ],
   "source": [
    "criterion = nn.CrossEntropyLoss()\n",
    "optimizer = optim.Adam(model.parameters(), lr=0.01)\n",
    "print(\"Model initialized and moved to device:\", device)"
   ]
  },
  {
   "cell_type": "code",
   "execution_count": 31,
   "metadata": {},
   "outputs": [
    {
     "name": "stdout",
     "output_type": "stream",
     "text": [
      "Epoch 1/30, Loss: 0.8356\n",
      "Epoch 2/30, Loss: 0.7070\n",
      "Epoch 3/30, Loss: 0.7147\n",
      "Epoch 4/30, Loss: 0.7009\n",
      "Epoch 5/30, Loss: 0.6955\n",
      "Epoch 6/30, Loss: 0.7067\n",
      "Epoch 7/30, Loss: 0.7177\n",
      "Epoch 8/30, Loss: 0.6950\n",
      "Epoch 9/30, Loss: 0.7005\n",
      "Epoch 10/30, Loss: 0.6890\n",
      "Epoch 11/30, Loss: 0.6303\n",
      "Epoch 12/30, Loss: 0.4882\n",
      "Epoch 13/30, Loss: 0.4225\n",
      "Epoch 14/30, Loss: 0.3156\n",
      "Epoch 15/30, Loss: 0.3727\n",
      "Epoch 16/30, Loss: 0.2834\n",
      "Epoch 17/30, Loss: 0.3259\n",
      "Epoch 18/30, Loss: 0.2862\n",
      "Epoch 19/30, Loss: 0.2163\n",
      "Epoch 20/30, Loss: 0.1968\n",
      "Epoch 21/30, Loss: 0.1936\n",
      "Epoch 22/30, Loss: 0.1767\n",
      "Epoch 23/30, Loss: 0.1505\n",
      "Epoch 24/30, Loss: 0.1320\n",
      "Epoch 25/30, Loss: 0.1484\n",
      "Epoch 26/30, Loss: 0.1691\n",
      "Epoch 27/30, Loss: 0.1259\n",
      "Epoch 28/30, Loss: 0.1098\n",
      "Epoch 29/30, Loss: 0.1101\n",
      "Epoch 30/30, Loss: 0.1225\n"
     ]
    }
   ],
   "source": [
    "num_epochs = 30 \n",
    "\n",
    "for epoch in range(num_epochs):\n",
    "    model.train()  \n",
    "    epoch_loss = 0.0\n",
    "\n",
    "    for batch_x, batch_y in dataloader:\n",
    "        batch_x, batch_y = batch_x.to(device), batch_y.to(device)\n",
    "\n",
    "      \n",
    "        outputs = model(batch_x)\n",
    "        loss = criterion(outputs, batch_y)  \n",
    "        \n",
    "        optimizer.zero_grad()\n",
    "        loss.backward()\n",
    "        optimizer.step()\n",
    "\n",
    "        epoch_loss += loss.item()\n",
    "\n",
    "    print(f\"Epoch {epoch+1}/{num_epochs}, Loss: {epoch_loss/len(dataloader):.4f}\")\n"
   ]
  },
  {
   "cell_type": "code",
   "execution_count": 33,
   "metadata": {},
   "outputs": [
    {
     "name": "stdout",
     "output_type": "stream",
     "text": [
      "Accuracy: 0.9627\n"
     ]
    }
   ],
   "source": [
    "model.eval()  # Set model to evaluation mode\n",
    "with torch.no_grad():\n",
    "    total_correct = 0\n",
    "    total_samples = 0\n",
    "\n",
    "    for batch_x, batch_y in dataloader:\n",
    "        batch_x, batch_y = batch_x.to(device), batch_y.to(device)\n",
    "\n",
    "        outputs = model(batch_x)\n",
    "        predictions = torch.argmax(outputs, dim=1)\n",
    "        label = batch_y\n",
    "        total_correct += (predictions == label).sum().item()\n",
    "        total_samples += label.size(0)\n",
    "\n",
    "    print(f\"Accuracy: {total_correct / total_samples:.4f}\")\n"
   ]
  },
  {
   "cell_type": "code",
   "execution_count": 34,
   "metadata": {},
   "outputs": [],
   "source": [
    "torch.save(model, \"../models/model.pth\")"
   ]
  },
  {
   "cell_type": "code",
   "execution_count": 35,
   "metadata": {},
   "outputs": [
    {
     "name": "stderr",
     "output_type": "stream",
     "text": [
      "C:\\Users\\abhis\\AppData\\Local\\Temp\\ipykernel_12800\\1228541698.py:1: FutureWarning: You are using `torch.load` with `weights_only=False` (the current default value), which uses the default pickle module implicitly. It is possible to construct malicious pickle data which will execute arbitrary code during unpickling (See https://github.com/pytorch/pytorch/blob/main/SECURITY.md#untrusted-models for more details). In a future release, the default value for `weights_only` will be flipped to `True`. This limits the functions that could be executed during unpickling. Arbitrary objects will no longer be allowed to be loaded via this mode unless they are explicitly allowlisted by the user via `torch.serialization.add_safe_globals`. We recommend you start setting `weights_only=True` for any use case where you don't have full control of the loaded file. Please open an issue on GitHub for any issues related to this experimental feature.\n",
      "  loaded_model = torch.load(\"../models/model.pth\")\n"
     ]
    },
    {
     "data": {
      "text/plain": [
       "LSTMModel(\n",
       "  (lstm1): LSTM(51, 64, batch_first=True)\n",
       "  (lstm2): LSTM(64, 128, batch_first=True)\n",
       "  (lstm3): LSTM(128, 64, batch_first=True)\n",
       "  (fc1): Linear(in_features=64, out_features=64, bias=True)\n",
       "  (fc2): Linear(in_features=64, out_features=32, bias=True)\n",
       "  (fc3): Linear(in_features=32, out_features=1366, bias=True)\n",
       "  (relu): ReLU()\n",
       "  (softmax): Softmax(dim=1)\n",
       ")"
      ]
     },
     "execution_count": 35,
     "metadata": {},
     "output_type": "execute_result"
    }
   ],
   "source": [
    "loaded_model = torch.load(\"../models/model.pth\")\n",
    "loaded_model.to(device)  # Move to the appropriate device if needed\n",
    "loaded_model.eval()  # Set the model to evaluation mode\n"
   ]
  },
  {
   "cell_type": "code",
   "execution_count": 37,
   "metadata": {},
   "outputs": [
    {
     "name": "stdout",
     "output_type": "stream",
     "text": [
      "Accuracy: 0.9627\n"
     ]
    }
   ],
   "source": [
    "with torch.no_grad():\n",
    "    total_correct = 0\n",
    "    total_samples = 0\n",
    "\n",
    "    for batch_x, batch_y in dataloader:\n",
    "        batch_x, batch_y = batch_x.to(device), batch_y.to(device)\n",
    "        outputs = loaded_model(batch_x)\n",
    "        predictions = torch.argmax(outputs, dim=1)\n",
    "        label = batch_y\n",
    "        total_correct += (predictions == label).sum().item()\n",
    "        total_samples += label.size(0)\n",
    "\n",
    "    print(f\"Accuracy: {total_correct / total_samples:.4f}\")"
   ]
  },
  {
   "cell_type": "code",
   "execution_count": 169,
   "metadata": {},
   "outputs": [],
   "source": [
    "outputs = loaded_model(batch_x)\n",
    "predictions = torch.argmax(outputs, dim=1)"
   ]
  },
  {
   "cell_type": "code",
   "execution_count": 24,
   "metadata": {},
   "outputs": [
    {
     "name": "stdout",
     "output_type": "stream",
     "text": [
      "tensor([[-5.2076,  4.5435]], device='cuda:0')\n",
      "Predicted class: 1\n"
     ]
    },
    {
     "name": "stderr",
     "output_type": "stream",
     "text": [
      "C:\\Users\\abhis\\AppData\\Local\\Temp\\ipykernel_9432\\2319691819.py:4: UserWarning: To copy construct from a tensor, it is recommended to use sourceTensor.clone().detach() or sourceTensor.clone().detach().requires_grad_(True), rather than torch.tensor(sourceTensor).\n",
      "  input_tensor = torch.tensor(input_sequence, dtype=torch.float32)\n"
     ]
    }
   ],
   "source": [
    "input_sequence = data[800]  \n",
    "\n",
    "# Convert NumPy array to PyTorch tensor\n",
    "input_tensor = torch.tensor(input_sequence, dtype=torch.float32)\n",
    "input_tensor = input_tensor.unsqueeze(0)  # Add batch dimension: shape becomes (1, 20, 132)\n",
    "\n",
    "# Move to the appropriate device \n",
    "device = torch.device(\"cuda\" if torch.cuda.is_available() else \"cpu\")\n",
    "input_tensor = input_tensor.to(device)\n",
    "loaded_model.to(device)\n",
    "\n",
    "# Perform prediction\n",
    "with torch.no_grad():\n",
    "    output = loaded_model(input_tensor)  # Output shape: (1, num_classes)\n",
    "    print(output)\n",
    "    prediction = torch.argmax(output, dim=1)  # Get the predicted class index\n",
    "\n",
    "# Print the prediction\n",
    "print(f\"Predicted class: {prediction.item()}\")"
   ]
  },
  {
   "cell_type": "markdown",
   "metadata": {},
   "source": [
    "additional softmax layer in model is not nessery because of crossentropy already applays softmax automaticall\n",
    "no need to add extra one if added reduces probablity\n",
    "\n",
    "label is converted to 1d during traning and only index value is taken because of how crossentropy works it expects the \n",
    "label to be size(1,batch size) 2dim has index value of class "
   ]
  }
 ],
 "metadata": {
  "kernelspec": {
   "display_name": "Python 3",
   "language": "python",
   "name": "python3"
  },
  "language_info": {
   "codemirror_mode": {
    "name": "ipython",
    "version": 3
   },
   "file_extension": ".py",
   "mimetype": "text/x-python",
   "name": "python",
   "nbconvert_exporter": "python",
   "pygments_lexer": "ipython3",
   "version": "3.11.11"
  }
 },
 "nbformat": 4,
 "nbformat_minor": 2
}
