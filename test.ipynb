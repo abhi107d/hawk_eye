{
 "cells": [
  {
   "cell_type": "code",
   "execution_count": null,
   "metadata": {},
   "outputs": [],
   "source": [
    "import cv2\n",
    "import numpy as np\n",
    "import torch\n",
    "from ultralytics import YOLO\n",
    "\n",
    "# Load the YOLO11 model\n",
    "with torch.no_grad():\n",
    "    model = YOLO(\"weights/yolo11x-pose.pt\").to('cuda')\n",
    "model.eval()\n",
    "\n",
    "# Open the video file\n",
    "video_path =\"videos_test/test.mp4\"\n",
    "cap = cv2.VideoCapture(video_path)\n",
    "\n",
    "\n",
    "# Loop through the video frames\n",
    "while cap.isOpened():\n",
    "    # Read a frame from the video\n",
    "    success, frame = cap.read()\n",
    "\n",
    "    if success:\n",
    "\n",
    "        \n",
    "        results = model.track(frame, persist=True,tracker='bytetrack.yaml')\n",
    "\n",
    "        # Get the boxes and track IDs\n",
    "        boxes = results[0].boxes.xywh.cpu()\n",
    "        track_ids = results[0].boxes.id.int().cpu().tolist()\n",
    "        keypoints=results[0].keypoints.xy.int().cpu().tolist()\n",
    "\n",
    "        # Visualize the results on the frame\n",
    "        #frame= results[0].plot()\n",
    "        print(track_ids)\n",
    "\n",
    "        \n",
    "            \n",
    "\n",
    "        for (b,id,ky) in zip(boxes,track_ids,keypoints):\n",
    "            cv2.putText(\n",
    "                        frame,str(id),(int(b[0]), int(b[1])),fontFace=cv2.FONT_HERSHEY_SIMPLEX, fontScale=1,color=(255, 0, 0),thickness=2                   \n",
    "                   )\n",
    "    \n",
    "        int\n",
    "        for ky in keypoints:\n",
    "            for k in ky:\n",
    "                cv2.circle(frame,radius=2,center=(int(k[0]),int(k[1])),color=(255,255,33),thickness=5)\n",
    "\n",
    "\n",
    "        \n",
    "\n",
    "        # Display the annotated frame\n",
    "        cv2.imshow(\"YOLO11 Tracking\", frame)\n",
    "\n",
    "        # Break the loop if 'q' is pressed\n",
    "        if cv2.waitKey(1) & 0xFF == ord(\"q\"):\n",
    "            break\n",
    "    else:\n",
    "        # Break the loop if the end of the video is reached\n",
    "        break\n",
    "\n",
    "# Release the video capture object and close the display window\n",
    "cap.release()\n",
    "cv2.destroyAllWindows()"
   ]
  },
  {
   "cell_type": "code",
   "execution_count": 103,
   "metadata": {},
   "outputs": [],
   "source": [
    "cap.release()\n",
    "cv2.destroyAllWindows()"
   ]
  },
  {
   "cell_type": "code",
   "execution_count": null,
   "metadata": {},
   "outputs": [],
   "source": [
    "box=results[0].boxes.xywh\n",
    "pose=results[0].keypoints.xy\n",
    "conf=results[0].keypoints.conf\n",
    "box=box.to('cuda')\n",
    "pose=pose.to('cuda')\n",
    "\n",
    "#removing location info\n",
    "xy=box[:,:-2]\n",
    "xy = xy.unsqueeze(1).repeat(1, 17, 1)\n",
    "mask = (pose == 0).all(dim=-1, keepdim=True)\n",
    "rslt=pose-xy\n",
    "rslt=rslt * ~mask\n",
    "rslt[rslt==-0.000]=0.0\n",
    "\n",
    "#normalising\n",
    "wh=box[:,-2:]\n",
    "wh = wh.unsqueeze(1).repeat(1, 17, 1)\n",
    "rslt=rslt/wh\n",
    "\n",
    "#adding confidence\n",
    "conf = conf.unsqueeze(-1)  \n",
    "rslt = torch.cat((rslt, conf), dim=-1)\n",
    "rslt\n"
   ]
  },
  {
   "cell_type": "code",
   "execution_count": null,
   "metadata": {},
   "outputs": [],
   "source": [
    "import torch.nn.functional as F\n",
    "normalized = F.normalize(rslt, p=2, dim=-1)\n",
    "normalized\n"
   ]
  },
  {
   "cell_type": "code",
   "execution_count": null,
   "metadata": {},
   "outputs": [],
   "source": [
    "for i in range(rslt.shape[0]):\n",
    "    outer_item = rslt[i]\n",
    "    print(\"yesp\",outer_item)"
   ]
  },
  {
   "cell_type": "code",
   "execution_count": null,
   "metadata": {},
   "outputs": [],
   "source": [
    "print(rslt.shape)\n",
    "conf.shape\n"
   ]
  },
  {
   "cell_type": "code",
   "execution_count": null,
   "metadata": {},
   "outputs": [],
   "source": [
    "rslt.reshape(-1)"
   ]
  },
  {
   "cell_type": "code",
   "execution_count": 209,
   "metadata": {},
   "outputs": [],
   "source": [
    "data=torch.load(\"data/non_cheating_Dataset.pth\")"
   ]
  },
  {
   "cell_type": "code",
   "execution_count": 210,
   "metadata": {},
   "outputs": [
    {
     "data": {
      "text/plain": [
       "torch.Size([681, 20, 17, 3])"
      ]
     },
     "execution_count": 210,
     "metadata": {},
     "output_type": "execute_result"
    }
   ],
   "source": [
    "data.shape"
   ]
  },
  {
   "cell_type": "code",
   "execution_count": 212,
   "metadata": {},
   "outputs": [],
   "source": [
    "y=torch.load(\"Data/non_cheating_ylabel.pth\")"
   ]
  },
  {
   "cell_type": "code",
   "execution_count": 213,
   "metadata": {},
   "outputs": [
    {
     "data": {
      "text/plain": [
       "torch.Size([681])"
      ]
     },
     "execution_count": 213,
     "metadata": {},
     "output_type": "execute_result"
    }
   ],
   "source": [
    "y.shape"
   ]
  },
  {
   "cell_type": "code",
   "execution_count": 190,
   "metadata": {},
   "outputs": [],
   "source": [
    "d=data.reshape(data.shape[0],20,-1)"
   ]
  },
  {
   "cell_type": "code",
   "execution_count": 11,
   "metadata": {},
   "outputs": [],
   "source": [
    "array=[1,2,2,11,2,2]\n",
    "array=array.pop(0)"
   ]
  },
  {
   "cell_type": "code",
   "execution_count": 9,
   "metadata": {},
   "outputs": [
    {
     "data": {
      "text/plain": [
       "11"
      ]
     },
     "execution_count": 9,
     "metadata": {},
     "output_type": "execute_result"
    }
   ],
   "source": [
    "array.pop(0)"
   ]
  },
  {
   "cell_type": "code",
   "execution_count": 14,
   "metadata": {},
   "outputs": [],
   "source": [
    "from collections import defaultdict,deque\n",
    "\n",
    "arr=deque(maxlen=4)"
   ]
  },
  {
   "cell_type": "code",
   "execution_count": 22,
   "metadata": {},
   "outputs": [],
   "source": [
    "arr.append(212)"
   ]
  },
  {
   "cell_type": "code",
   "execution_count": 23,
   "metadata": {},
   "outputs": [
    {
     "data": {
      "text/plain": [
       "deque([5, 2, 0, 212], maxlen=4)"
      ]
     },
     "execution_count": 23,
     "metadata": {},
     "output_type": "execute_result"
    }
   ],
   "source": [
    "arr"
   ]
  },
  {
   "cell_type": "code",
   "execution_count": null,
   "metadata": {},
   "outputs": [],
   "source": []
  }
 ],
 "metadata": {
  "kernelspec": {
   "display_name": "Python 3",
   "language": "python",
   "name": "python3"
  },
  "language_info": {
   "codemirror_mode": {
    "name": "ipython",
    "version": 3
   },
   "file_extension": ".py",
   "mimetype": "text/x-python",
   "name": "python",
   "nbconvert_exporter": "python",
   "pygments_lexer": "ipython3",
   "version": "3.11.11"
  }
 },
 "nbformat": 4,
 "nbformat_minor": 2
}
